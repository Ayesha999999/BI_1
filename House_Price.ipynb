{
 "cells": [
  {
   "cell_type": "code",
   "execution_count": 1,
   "id": "7a0487f1",
   "metadata": {},
   "outputs": [],
   "source": [
    "import numpy as np\n",
    "import pandas as pd\n",
    "from sklearn.model_selection import train_test_split\n",
    "from sklearn.linear_model import LinearRegression\n",
    "from sklearn.metrics import mean_squared_error, r2_score"
   ]
  },
  {
   "cell_type": "code",
   "execution_count": 2,
   "id": "accc5667",
   "metadata": {},
   "outputs": [],
   "source": [
    "data=pd.read_csv(r\"C:\\Users\\AYESHA SIDDIQUA\\Downloads\\House_price.csv\")"
   ]
  },
  {
   "cell_type": "code",
   "execution_count": 3,
   "id": "0a4b61ae",
   "metadata": {},
   "outputs": [
    {
     "data": {
      "text/html": [
       "<div>\n",
       "<style scoped>\n",
       "    .dataframe tbody tr th:only-of-type {\n",
       "        vertical-align: middle;\n",
       "    }\n",
       "\n",
       "    .dataframe tbody tr th {\n",
       "        vertical-align: top;\n",
       "    }\n",
       "\n",
       "    .dataframe thead th {\n",
       "        text-align: right;\n",
       "    }\n",
       "</style>\n",
       "<table border=\"1\" class=\"dataframe\">\n",
       "  <thead>\n",
       "    <tr style=\"text-align: right;\">\n",
       "      <th></th>\n",
       "      <th>Avg. Area Income</th>\n",
       "      <th>House Age</th>\n",
       "      <th>Number of Rooms</th>\n",
       "      <th>Number of Bedrooms</th>\n",
       "      <th>Area Population</th>\n",
       "      <th>Price</th>\n",
       "    </tr>\n",
       "  </thead>\n",
       "  <tbody>\n",
       "    <tr>\n",
       "      <th>0</th>\n",
       "      <td>79545.45857</td>\n",
       "      <td>5.682861</td>\n",
       "      <td>7.009188</td>\n",
       "      <td>4.09</td>\n",
       "      <td>23086.80050</td>\n",
       "      <td>1.059034e+06</td>\n",
       "    </tr>\n",
       "    <tr>\n",
       "      <th>1</th>\n",
       "      <td>79248.64245</td>\n",
       "      <td>6.002900</td>\n",
       "      <td>6.730821</td>\n",
       "      <td>3.09</td>\n",
       "      <td>40173.07217</td>\n",
       "      <td>1.505891e+06</td>\n",
       "    </tr>\n",
       "    <tr>\n",
       "      <th>2</th>\n",
       "      <td>61287.06718</td>\n",
       "      <td>5.865890</td>\n",
       "      <td>8.512727</td>\n",
       "      <td>5.13</td>\n",
       "      <td>36882.15940</td>\n",
       "      <td>1.058988e+06</td>\n",
       "    </tr>\n",
       "    <tr>\n",
       "      <th>3</th>\n",
       "      <td>63345.24005</td>\n",
       "      <td>7.188236</td>\n",
       "      <td>5.586729</td>\n",
       "      <td>3.26</td>\n",
       "      <td>34310.24283</td>\n",
       "      <td>1.260617e+06</td>\n",
       "    </tr>\n",
       "    <tr>\n",
       "      <th>4</th>\n",
       "      <td>59982.19723</td>\n",
       "      <td>5.040555</td>\n",
       "      <td>7.839388</td>\n",
       "      <td>4.23</td>\n",
       "      <td>26354.10947</td>\n",
       "      <td>6.309435e+05</td>\n",
       "    </tr>\n",
       "    <tr>\n",
       "      <th>...</th>\n",
       "      <td>...</td>\n",
       "      <td>...</td>\n",
       "      <td>...</td>\n",
       "      <td>...</td>\n",
       "      <td>...</td>\n",
       "      <td>...</td>\n",
       "    </tr>\n",
       "    <tr>\n",
       "      <th>4543</th>\n",
       "      <td>84556.63627</td>\n",
       "      <td>5.092459</td>\n",
       "      <td>6.723412</td>\n",
       "      <td>2.42</td>\n",
       "      <td>31797.31744</td>\n",
       "      <td>1.326847e+06</td>\n",
       "    </tr>\n",
       "    <tr>\n",
       "      <th>4544</th>\n",
       "      <td>82732.98111</td>\n",
       "      <td>5.332712</td>\n",
       "      <td>6.198476</td>\n",
       "      <td>3.49</td>\n",
       "      <td>41136.52722</td>\n",
       "      <td>1.252664e+06</td>\n",
       "    </tr>\n",
       "    <tr>\n",
       "      <th>4545</th>\n",
       "      <td>65694.05127</td>\n",
       "      <td>6.436741</td>\n",
       "      <td>6.704929</td>\n",
       "      <td>3.14</td>\n",
       "      <td>43406.71203</td>\n",
       "      <td>1.359763e+06</td>\n",
       "    </tr>\n",
       "    <tr>\n",
       "      <th>4546</th>\n",
       "      <td>76061.35071</td>\n",
       "      <td>7.148713</td>\n",
       "      <td>7.546066</td>\n",
       "      <td>6.30</td>\n",
       "      <td>40876.96459</td>\n",
       "      <td>1.778013e+06</td>\n",
       "    </tr>\n",
       "    <tr>\n",
       "      <th>4547</th>\n",
       "      <td>66935.47508</td>\n",
       "      <td>6.376390</td>\n",
       "      <td>8.513826</td>\n",
       "      <td>5.47</td>\n",
       "      <td>17573.61710</td>\n",
       "      <td>1.109059e+06</td>\n",
       "    </tr>\n",
       "  </tbody>\n",
       "</table>\n",
       "<p>4548 rows × 6 columns</p>\n",
       "</div>"
      ],
      "text/plain": [
       "      Avg. Area Income  House Age  Number of Rooms  Number of Bedrooms  \\\n",
       "0          79545.45857   5.682861         7.009188                4.09   \n",
       "1          79248.64245   6.002900         6.730821                3.09   \n",
       "2          61287.06718   5.865890         8.512727                5.13   \n",
       "3          63345.24005   7.188236         5.586729                3.26   \n",
       "4          59982.19723   5.040555         7.839388                4.23   \n",
       "...                ...        ...              ...                 ...   \n",
       "4543       84556.63627   5.092459         6.723412                2.42   \n",
       "4544       82732.98111   5.332712         6.198476                3.49   \n",
       "4545       65694.05127   6.436741         6.704929                3.14   \n",
       "4546       76061.35071   7.148713         7.546066                6.30   \n",
       "4547       66935.47508   6.376390         8.513826                5.47   \n",
       "\n",
       "      Area Population         Price  \n",
       "0         23086.80050  1.059034e+06  \n",
       "1         40173.07217  1.505891e+06  \n",
       "2         36882.15940  1.058988e+06  \n",
       "3         34310.24283  1.260617e+06  \n",
       "4         26354.10947  6.309435e+05  \n",
       "...               ...           ...  \n",
       "4543      31797.31744  1.326847e+06  \n",
       "4544      41136.52722  1.252664e+06  \n",
       "4545      43406.71203  1.359763e+06  \n",
       "4546      40876.96459  1.778013e+06  \n",
       "4547      17573.61710  1.109059e+06  \n",
       "\n",
       "[4548 rows x 6 columns]"
      ]
     },
     "execution_count": 3,
     "metadata": {},
     "output_type": "execute_result"
    }
   ],
   "source": [
    "data"
   ]
  },
  {
   "cell_type": "code",
   "execution_count": 4,
   "id": "59dbc7ba",
   "metadata": {},
   "outputs": [],
   "source": [
    "X = data.drop('Price', axis=1)\n",
    "y = data['Price']"
   ]
  },
  {
   "cell_type": "code",
   "execution_count": 5,
   "id": "7b6cce46",
   "metadata": {},
   "outputs": [],
   "source": [
    "X_train, X_test, y_train, y_test = train_test_split(X, y, test_size=0.2, random_state=42)"
   ]
  },
  {
   "cell_type": "code",
   "execution_count": 6,
   "id": "9f73893e",
   "metadata": {},
   "outputs": [],
   "source": [
    "model = LinearRegression()"
   ]
  },
  {
   "cell_type": "code",
   "execution_count": 7,
   "id": "3e5f3729",
   "metadata": {},
   "outputs": [
    {
     "data": {
      "text/plain": [
       "LinearRegression()"
      ]
     },
     "execution_count": 7,
     "metadata": {},
     "output_type": "execute_result"
    }
   ],
   "source": [
    "model.fit(X_train, y_train)"
   ]
  },
  {
   "cell_type": "code",
   "execution_count": 8,
   "id": "60b246e5",
   "metadata": {},
   "outputs": [],
   "source": [
    "y_pred = model.predict(X_test)\n",
    "mse = mean_squared_error(y_test, y_pred)\n",
    "r2 = r2_score(y_test, y_pred)"
   ]
  },
  {
   "cell_type": "code",
   "execution_count": 9,
   "id": "e8784ac5",
   "metadata": {},
   "outputs": [
    {
     "name": "stdout",
     "output_type": "stream",
     "text": [
      "Mean Squared Error: 10450595737.122646\n",
      "R-squared: 0.9086390843030919\n"
     ]
    }
   ],
   "source": [
    "print(f\"Mean Squared Error: {mse}\")\n",
    "print(f\"R-squared: {r2}\")"
   ]
  },
  {
   "cell_type": "code",
   "execution_count": null,
   "id": "6badff79",
   "metadata": {},
   "outputs": [],
   "source": []
  }
 ],
 "metadata": {
  "kernelspec": {
   "display_name": "Python 3 (ipykernel)",
   "language": "python",
   "name": "python3"
  },
  "language_info": {
   "codemirror_mode": {
    "name": "ipython",
    "version": 3
   },
   "file_extension": ".py",
   "mimetype": "text/x-python",
   "name": "python",
   "nbconvert_exporter": "python",
   "pygments_lexer": "ipython3",
   "version": "3.9.7"
  }
 },
 "nbformat": 4,
 "nbformat_minor": 5
}
